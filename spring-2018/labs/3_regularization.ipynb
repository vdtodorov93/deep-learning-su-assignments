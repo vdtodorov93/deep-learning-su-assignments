{
 "cells": [
  {
   "cell_type": "markdown",
   "metadata": {
    "colab_type": "text",
    "id": "kR-4eNdK6lYS"
   },
   "source": [
    "Deep Learning\n",
    "=============\n",
    "\n",
    "Assignment 3\n",
    "------------\n",
    "\n",
    "Previously in `2_fullyconnected.ipynb`, you trained a logistic regression and a neural network model.\n",
    "\n",
    "The goal of this assignment is to explore regularization techniques."
   ]
  },
  {
   "cell_type": "code",
   "execution_count": 1,
   "metadata": {
    "cellView": "both",
    "colab": {
     "autoexec": {
      "startup": false,
      "wait_interval": 0
     }
    },
    "colab_type": "code",
    "id": "JLpLa8Jt7Vu4"
   },
   "outputs": [],
   "source": [
    "# These are all the modules we'll be using later. Make sure you can import them\n",
    "# before proceeding further.\n",
    "from __future__ import print_function\n",
    "import numpy as np\n",
    "import tensorflow as tf\n",
    "from six.moves import cPickle as pickle"
   ]
  },
  {
   "cell_type": "markdown",
   "metadata": {
    "colab_type": "text",
    "id": "1HrCK6e17WzV"
   },
   "source": [
    "First reload the data we generated in `1_notmnist.ipynb`."
   ]
  },
  {
   "cell_type": "code",
   "execution_count": 2,
   "metadata": {
    "cellView": "both",
    "colab": {
     "autoexec": {
      "startup": false,
      "wait_interval": 0
     },
     "output_extras": [
      {
       "item_id": 1
      }
     ]
    },
    "colab_type": "code",
    "executionInfo": {
     "elapsed": 11777,
     "status": "ok",
     "timestamp": 1449849322348,
     "user": {
      "color": "",
      "displayName": "",
      "isAnonymous": false,
      "isMe": true,
      "permissionId": "",
      "photoUrl": "",
      "sessionId": "0",
      "userId": ""
     },
     "user_tz": 480
    },
    "id": "y3-cj1bpmuxc",
    "outputId": "e03576f1-ebbe-4838-c388-f1777bcc9873"
   },
   "outputs": [
    {
     "name": "stdout",
     "output_type": "stream",
     "text": [
      "Training set (200000, 28, 28) (200000,)\n",
      "Validation set (10000, 28, 28) (10000,)\n",
      "Test set (10000, 28, 28) (10000,)\n"
     ]
    }
   ],
   "source": [
    "pickle_file = 'notMNIST.pickle'\n",
    "\n",
    "with open(pickle_file, 'rb') as f:\n",
    "  save = pickle.load(f)\n",
    "  train_dataset = save['train_dataset']\n",
    "  train_labels = save['train_labels']\n",
    "  valid_dataset = save['valid_dataset']\n",
    "  valid_labels = save['valid_labels']\n",
    "  test_dataset = save['test_dataset']\n",
    "  test_labels = save['test_labels']\n",
    "  del save  # hint to help gc free up memory\n",
    "  print('Training set', train_dataset.shape, train_labels.shape)\n",
    "  print('Validation set', valid_dataset.shape, valid_labels.shape)\n",
    "  print('Test set', test_dataset.shape, test_labels.shape)"
   ]
  },
  {
   "cell_type": "markdown",
   "metadata": {
    "colab_type": "text",
    "id": "L7aHrm6nGDMB"
   },
   "source": [
    "Reformat into a shape that's more adapted to the models we're going to train:\n",
    "- data as a flat matrix,\n",
    "- labels as float 1-hot encodings."
   ]
  },
  {
   "cell_type": "code",
   "execution_count": 3,
   "metadata": {
    "cellView": "both",
    "colab": {
     "autoexec": {
      "startup": false,
      "wait_interval": 0
     },
     "output_extras": [
      {
       "item_id": 1
      }
     ]
    },
    "colab_type": "code",
    "executionInfo": {
     "elapsed": 11728,
     "status": "ok",
     "timestamp": 1449849322356,
     "user": {
      "color": "",
      "displayName": "",
      "isAnonymous": false,
      "isMe": true,
      "permissionId": "",
      "photoUrl": "",
      "sessionId": "0",
      "userId": ""
     },
     "user_tz": 480
    },
    "id": "IRSyYiIIGIzS",
    "outputId": "3f8996ee-3574-4f44-c953-5c8a04636582"
   },
   "outputs": [
    {
     "name": "stdout",
     "output_type": "stream",
     "text": [
      "Training set (200000, 784) (200000, 10)\n",
      "Validation set (10000, 784) (10000, 10)\n",
      "Test set (10000, 784) (10000, 10)\n"
     ]
    }
   ],
   "source": [
    "image_size = 28\n",
    "num_labels = 10\n",
    "\n",
    "def reformat(dataset, labels):\n",
    "  dataset = dataset.reshape((-1, image_size * image_size)).astype(np.float32)\n",
    "  # Map 1 to [0.0, 1.0, 0.0 ...], 2 to [0.0, 0.0, 1.0 ...]\n",
    "  labels = (np.arange(num_labels) == labels[:,None]).astype(np.float32)\n",
    "  return dataset, labels\n",
    "train_dataset, train_labels = reformat(train_dataset, train_labels)\n",
    "valid_dataset, valid_labels = reformat(valid_dataset, valid_labels)\n",
    "test_dataset, test_labels = reformat(test_dataset, test_labels)\n",
    "print('Training set', train_dataset.shape, train_labels.shape)\n",
    "print('Validation set', valid_dataset.shape, valid_labels.shape)\n",
    "print('Test set', test_dataset.shape, test_labels.shape)"
   ]
  },
  {
   "cell_type": "code",
   "execution_count": 4,
   "metadata": {
    "cellView": "both",
    "colab": {
     "autoexec": {
      "startup": false,
      "wait_interval": 0
     }
    },
    "colab_type": "code",
    "id": "RajPLaL_ZW6w"
   },
   "outputs": [],
   "source": [
    "def accuracy(predictions, labels):\n",
    "  return (100.0 * np.sum(np.argmax(predictions, 1) == np.argmax(labels, 1))\n",
    "          / predictions.shape[0])"
   ]
  },
  {
   "cell_type": "markdown",
   "metadata": {
    "colab_type": "text",
    "id": "sgLbUAQ1CW-1"
   },
   "source": [
    "---\n",
    "Problem 1\n",
    "---------\n",
    "\n",
    "Introduce and tune L2 regularization for both logistic and neural network models. Remember that L2 amounts to adding a penalty on the norm of the weights to the loss. In TensorFlow, you can compute the L2 loss for a tensor `t` using `nn.l2_loss(t)`. The right amount of regularization should improve your validation / test accuracy.\n",
    "\n",
    "---"
   ]
  },
  {
   "cell_type": "code",
   "execution_count": 27,
   "metadata": {
    "scrolled": true
   },
   "outputs": [
    {
     "name": "stdout",
     "output_type": "stream",
     "text": [
      "train_dataset (200000, 784)\n",
      "train_labels (200000, 10)\n",
      "valid_dataset (10000, 784)\n",
      "valid_labels (10000, 10)\n",
      "test_dataset (10000, 784)\n",
      "test_labels (10000, 10)\n",
      "784\n"
     ]
    }
   ],
   "source": [
    "print('train_dataset', train_dataset.shape)\n",
    "print('train_labels', train_labels.shape)\n",
    "print('valid_dataset', valid_dataset.shape)\n",
    "print('valid_labels', valid_labels.shape)\n",
    "print('test_dataset', test_dataset.shape)\n",
    "print('test_labels', test_labels.shape)\n",
    "dims = train_dataset.shape[1]\n",
    "hidden_layers = 128\n",
    "num_classes = 10\n",
    "print(dims)\n",
    "batch_size = 128\n",
    "reg = 0.005\n",
    "\n",
    "def train_shit_mother_fucker(train_dataset, train_labels, valid_dataset, valid_labels, test_dataset, test_labels, train_dropput = 0.7):\n",
    "    graph1 = tf.Graph()\n",
    "    \n",
    "    with graph1.as_default():\n",
    "        X = tf.placeholder(tf.float32, [None, dims])\n",
    "        y_labels = tf.placeholder(tf.float32, [None, num_classes])\n",
    "        keep_prob_tensor = tf.placeholder(tf.float32)\n",
    "\n",
    "        W1 = tf.Variable(tf.random_uniform([784, hidden_layers], -0.01, 0.01), dtype=tf.float32)\n",
    "        b1 = tf.Variable(tf.zeros([hidden_layers]), dtype=tf.float32)\n",
    "\n",
    "        z1 = tf.matmul(X, W1) + b1\n",
    "        a1 = tf.nn.relu(z1)\n",
    "        \n",
    "        drop_out_layer1 = tf.nn.dropout(a1, keep_prob_tensor)\n",
    "\n",
    "        W2 = tf.Variable(tf.random_uniform([hidden_layers, num_classes], -0.01, 0.01), dtype=tf.float32)\n",
    "        b2 = tf.Variable(tf.zeros([num_classes]), dtype=tf.float32)\n",
    "\n",
    "        z2 = tf.matmul(drop_out_layer1, W2) + b2\n",
    "        a2 = tf.nn.softmax(z2)\n",
    "\n",
    "        regularizer = reg * tf.nn.l2_loss(W2) + reg * tf.nn.l2_loss(W1)\n",
    "        loss1 = tf.reduce_mean(tf.nn.softmax_cross_entropy_with_logits(labels=y_labels, logits=a2))\n",
    "        loss1 = tf.reduce_mean(loss1 + regularizer)\n",
    "        optimizer = tf.train.GradientDescentOptimizer(0.2).minimize(loss1)\n",
    "\n",
    "        with tf.Session(graph=graph1) as sess:\n",
    "            l_value = None\n",
    "\n",
    "            tf.global_variables_initializer().run()\n",
    "            for i in range(20000):\n",
    "                offset = (i * batch_size) % (train_labels.shape[0] - batch_size)\n",
    "                # Generate a minibatch.\n",
    "                batch_data = train_dataset[offset:(offset + batch_size), :]\n",
    "                #print('train_labels', train_labels.shape)\n",
    "                batch_labels = train_labels[offset:(offset + batch_size), :]\n",
    "                feed_dict={\n",
    "                    X:batch_data, \n",
    "                    y_labels: batch_labels,\n",
    "                    keep_prob_tensor: train_dropput\n",
    "                }\n",
    "                _, l_value = sess.run([optimizer, loss1], feed_dict=feed_dict)\n",
    "                if i % 1000 == 0:\n",
    "                    print(i, ' : ', l_value)\n",
    "            print(\"Final Loss\", l_value)\n",
    "\n",
    "            correct_prediction = tf.equal(tf.argmax(y_labels,1), tf.argmax(a2,1))\n",
    "            accuracy = tf.reduce_mean(tf.cast(correct_prediction, tf.float32))\n",
    "            print('val acc: ', sess.run(accuracy, feed_dict={X: valid_dataset, y_labels: valid_labels,\n",
    "                    keep_prob_tensor: 1}))\n",
    "            print('test acc: ', sess.run(accuracy, feed_dict={X: test_dataset, y_labels: test_labels,\n",
    "                    keep_prob_tensor: 1}))\n",
    "\n"
   ]
  },
  {
   "cell_type": "code",
   "execution_count": 28,
   "metadata": {},
   "outputs": [
    {
     "name": "stdout",
     "output_type": "stream",
     "text": [
      "0  :  2.311045\n",
      "1000  :  1.7945662\n",
      "2000  :  1.7664502\n",
      "3000  :  1.7479265\n",
      "4000  :  1.8122343\n",
      "5000  :  1.7545754\n",
      "6000  :  1.7294809\n",
      "7000  :  1.7511207\n",
      "8000  :  1.7768226\n",
      "9000  :  1.7315966\n",
      "10000  :  1.735817\n",
      "11000  :  1.7778652\n",
      "12000  :  1.7473674\n",
      "13000  :  1.7281364\n",
      "14000  :  1.7516723\n",
      "15000  :  1.721434\n",
      "16000  :  1.7041763\n",
      "17000  :  1.734987\n",
      "18000  :  1.7418755\n",
      "19000  :  1.7202544\n",
      "Final Loss 1.7296227\n",
      "val acc:  0.8384\n",
      "test acc:  0.8951\n"
     ]
    }
   ],
   "source": [
    "train_shit_mother_fucker(train_dataset, train_labels, valid_dataset, valid_labels, test_dataset, test_labels)"
   ]
  },
  {
   "cell_type": "markdown",
   "metadata": {
    "colab_type": "text",
    "id": "na8xX2yHZzNF"
   },
   "source": [
    "---\n",
    "Problem 2\n",
    "---------\n",
    "Let's demonstrate an extreme case of overfitting. Restrict your training data to just a few batches. What happens?\n",
    "\n",
    "---"
   ]
  },
  {
   "cell_type": "code",
   "execution_count": 32,
   "metadata": {},
   "outputs": [
    {
     "name": "stdout",
     "output_type": "stream",
     "text": [
      "0  :  2.3110566\n",
      "1000  :  1.5738357\n",
      "2000  :  1.5638618\n",
      "3000  :  1.562144\n",
      "4000  :  1.5612178\n",
      "5000  :  1.5605485\n",
      "6000  :  1.5600239\n",
      "7000  :  1.5595995\n",
      "8000  :  1.5592484\n",
      "9000  :  1.5589606\n",
      "10000  :  1.5587075\n",
      "11000  :  1.5584935\n",
      "12000  :  1.5583131\n",
      "13000  :  1.5581363\n",
      "14000  :  1.5579823\n",
      "15000  :  1.5578573\n",
      "16000  :  1.5577476\n",
      "17000  :  1.5576476\n",
      "18000  :  1.557559\n",
      "19000  :  1.557477\n",
      "Final Loss 1.5574032\n",
      "val acc:  0.719\n",
      "test acc:  0.7807\n"
     ]
    }
   ],
   "source": [
    "train_samples_count = batch_size * 2\n",
    "train_shit_mother_fucker(train_dataset[:train_samples_count, :], train_labels[:train_samples_count, :], valid_dataset, valid_labels, test_dataset, test_labels, 1)"
   ]
  },
  {
   "cell_type": "markdown",
   "metadata": {
    "colab_type": "text",
    "id": "ww3SCBUdlkRc"
   },
   "source": [
    "---\n",
    "Problem 3\n",
    "---------\n",
    "Introduce Dropout on the hidden layer of the neural network. Remember: Dropout should only be introduced during training, not evaluation, otherwise your evaluation results would be stochastic as well. TensorFlow provides `nn.dropout()` for that, but you have to make sure it's only inserted during training.\n",
    "\n",
    "What happens to our extreme overfitting case?\n",
    "\n",
    "---"
   ]
  },
  {
   "cell_type": "markdown",
   "metadata": {
    "colab_type": "text",
    "id": "-b1hTz3VWZjw"
   },
   "source": [
    "---\n",
    "Problem 4\n",
    "---------\n",
    "\n",
    "Try to get the best performance you can using a multi-layer model! The best reported test accuracy using a deep network is [97.1%](http://yaroslavvb.blogspot.com/2011/09/notmnist-dataset.html?showComment=1391023266211#c8758720086795711595).\n",
    "\n",
    "One avenue you can explore is to add multiple layers.\n",
    "\n",
    "Another one is to use learning rate decay:\n",
    "\n",
    "    global_step = tf.Variable(0)  # count the number of steps taken.\n",
    "    learning_rate = tf.train.exponential_decay(0.5, global_step, ...)\n",
    "    optimizer = tf.train.GradientDescentOptimizer(learning_rate).minimize(loss, global_step=global_step)\n",
    " \n",
    " ---\n"
   ]
  }
 ],
 "metadata": {
  "colab": {
   "default_view": {},
   "name": "3_regularization.ipynb",
   "provenance": [],
   "version": "0.3.2",
   "views": {}
  },
  "kernelspec": {
   "display_name": "Python 3",
   "language": "python",
   "name": "python3"
  },
  "language_info": {
   "codemirror_mode": {
    "name": "ipython",
    "version": 3
   },
   "file_extension": ".py",
   "mimetype": "text/x-python",
   "name": "python",
   "nbconvert_exporter": "python",
   "pygments_lexer": "ipython3",
   "version": "3.5.2"
  }
 },
 "nbformat": 4,
 "nbformat_minor": 1
}
